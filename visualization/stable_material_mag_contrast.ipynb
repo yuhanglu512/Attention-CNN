{
 "cells": [
  {
   "cell_type": "code",
   "execution_count": 1,
   "metadata": {},
   "outputs": [],
   "source": [
    "import os\n",
    "os.chdir('../')"
   ]
  },
  {
   "cell_type": "code",
   "execution_count": 2,
   "metadata": {},
   "outputs": [],
   "source": [
    "from models.GCNmodel import *\n",
    "from utils import *\n",
    "import torch\n",
    "import torch.nn as nn\n",
    "\n",
    "import torch.nn.functional as F\n",
    "from torch.utils.data import TensorDataset, DataLoader\n",
    "from torchsummary import summary\n",
    "import time\n",
    "import numpy as np\n",
    "import pandas as pd"
   ]
  },
  {
   "cell_type": "code",
   "execution_count": 3,
   "metadata": {},
   "outputs": [],
   "source": [
    "device = \"cuda\" if torch.cuda.is_available() else \"cpu\"\n",
    "batch_size=1024\n",
    "dataset=elementtables_structure_new(search=True)\n",
    "task='stability'\n",
    "model_stable=attention_CNN_quadtask().to(device)\n",
    "model_stable.load_state_dict(torch.load('result/lattice_constant_E0_Ef_stability_model.pth'))\n",
    "dataloader=DataLoader(dataset,batch_size=batch_size,shuffle=False)\n",
    "threshold=0.1\n",
    "material_name=[]\n",
    "mag=[]\n",
    "a=[]\n",
    "data_stable=[]\n",
    "spacegroup=[]\n",
    "stability=[]\n",
    "model_stable.eval()\n",
    "with torch.no_grad():\n",
    "    for data in dataloader:\n",
    "        out=calculate_result(data,model_stable,task)\n",
    "        for i,stability_i in enumerate(out):\n",
    "            if stability_i<threshold:\n",
    "                name=ChemicalSymbols[torch.argwhere(data[0][i,-4:,:,:].reshape(4,100)!=0)[:,1].to('cpu').numpy()]\n",
    "                if len(name)==3:\n",
    "                    name=np.insert(name,torch.argwhere(torch.sum(data[0][i,-4:,:,:].reshape(4,100),dim=1)==0)[0].to('cpu').numpy()[0],'X')\n",
    "                material_name.append(name)\n",
    "                data_stable.append(data[0][i])\n",
    "                mag.append(data[1][i])\n",
    "                spacegroup.append(data[2][i])\n",
    "                a.append(data[3][i])\n",
    "                stability.append(stability_i)\n",
    "            else:\n",
    "                continue"
   ]
  },
  {
   "cell_type": "code",
   "execution_count": 4,
   "metadata": {},
   "outputs": [],
   "source": [
    "task=\"Mag\"\n",
    "model_mag=attention_CNN(end_with_activation=True).to(device)\n",
    "model_mag.load_state_dict(torch.load('result/Mag_model.pth'))\n",
    "mag_pred=calculate_result([torch.stack(data_stable),[],torch.stack(spacegroup).reshape(-1),torch.stack(a).reshape(-1,1)],model_mag,task)"
   ]
  },
  {
   "cell_type": "code",
   "execution_count": 5,
   "metadata": {},
   "outputs": [
    {
     "data": {
      "text/plain": [
       "torch.Size([1267, 8, 10, 10])"
      ]
     },
     "execution_count": 5,
     "metadata": {},
     "output_type": "execute_result"
    }
   ],
   "source": [
    "torch.stack(data_stable).shape"
   ]
  },
  {
   "cell_type": "code",
   "execution_count": 6,
   "metadata": {},
   "outputs": [
    {
     "data": {
      "text/plain": [
       "(tensor([2.1151], device='cuda:0'), tensor([0.0101], device='cuda:0'))"
      ]
     },
     "execution_count": 6,
     "metadata": {},
     "output_type": "execute_result"
    }
   ],
   "source": [
    "max(mag),min(mag)"
   ]
  },
  {
   "cell_type": "code",
   "execution_count": 7,
   "metadata": {},
   "outputs": [],
   "source": [
    "order_list_with_index=sorted(enumerate(mag),key=lambda x:x[1],reverse=True)\n",
    "ordered_mag=[x[1] for x in order_list_with_index]\n",
    "ordered_material=[material_name[x[0]] for x in order_list_with_index]\n",
    "ordered_a=[a[x[0]] for x in order_list_with_index]\n",
    "ordered_mag_pred=[mag_pred[x[0]] for x in order_list_with_index]\n",
    "ordered_stability=[stability[x[0]] for x in order_list_with_index]"
   ]
  },
  {
   "cell_type": "code",
   "execution_count": 8,
   "metadata": {},
   "outputs": [
    {
     "data": {
      "text/plain": [
       "4.2651005"
      ]
     },
     "execution_count": 8,
     "metadata": {},
     "output_type": "execute_result"
    }
   ],
   "source": [
    "ordered_a[0].to('cpu').numpy()[0]"
   ]
  },
  {
   "cell_type": "code",
   "execution_count": 9,
   "metadata": {},
   "outputs": [
    {
     "name": "stdout",
     "output_type": "stream",
     "text": [
      "[Ir, Fe, Rh, Fe]/ 2.115125 2.0391192 0.07649259\n",
      "[In, Au, Gd, Au]/ 1.80374 1.496893 0.0025981069\n",
      "[Ba, Ca, In]/ 1.6595134 1.7972585 0.029836833\n",
      "[In, Au, Sm, Au]/ 1.4356275 2.114887 0.007589191\n",
      "[In, Ag, Sm, Ag]/ 1.4201825 2.152902 0.081501156\n",
      "[Fe, Co, Ge, Co]/ 1.4114175 1.533891 0.024230659\n",
      "[Fe, Co, Sn, Co]/ 1.4028875 1.6428018 0.08085045\n",
      "[Fe, Co, Ti, Co]/ 1.32944 1.5026723 0.051258475\n",
      "[Fe, Co, Ga, Co]/ 1.25114 1.4337418 -0.00023772358\n",
      "[Ga, Co, Fe, Co]/ 1.2511375 1.4304601 -0.00023884088\n",
      "[Al, Co, Fe, Co]/ 1.237475 1.3858738 0.03860441\n",
      "[Rh, Ga, Co, Fe]/ 1.2319275 1.2200052 0.03896895\n",
      "[Ir, Ga, Co, Fe]/ 1.221125 1.2797523 0.0675475\n",
      "[Pt, Be, Co, Fe]/ 1.219435 1.2273743 0.097671\n",
      "[Mg, Co, Fe, Ir]/ 1.165335 1.3072871 0.08635618\n",
      "[Fe, Ru, Nb, Ru]/ 1.156235 1.4487209 0.07223901\n",
      "[Fe, Ru, Ta, Ru]/ 1.152515 1.2670466 0.028865427\n",
      "[Co, Fe, Al, Co]/ 1.14517 1.2134086 0.091312736\n",
      "[La, La, Ca, In]/ 1.14303 1.8683939 0.08958644\n",
      "[Be, Co, Fe, Co]/ 1.1367176 1.2515326 0.08034104\n",
      "[Fe, Ru, V, Ru]/ 1.12835 1.3156564 0.03915429\n",
      "[Ni, Ga, Co, Fe]/ 1.119125 1.1719817 0.09102175\n",
      "[Sc, Rh, Fe, Ir]/ 1.11592 1.1156051 0.09562059\n",
      "[Ru, Ga, Co, Fe]/ 1.111925 1.2477807 0.032841325\n",
      "[Rh, Be, Co, Fe]/ 1.10497 1.1587926 0.09386927\n",
      "[Fe, Fe, Ti, Ga]/ 1.1004775 1.0747131 0.072052985\n",
      "[Fe, Rh, Sc, Rh]/ 1.091395 1.240065 0.05883953\n",
      "[Ir, Be, Co, Fe]/ 1.0902975 1.0775342 0.088263616\n",
      "[Al, Ir, Fe, Ir]/ 1.086685 1.2225205 0.056621462\n",
      "[Fe, Ru, Sb, Ru]/ 1.0856925 1.3815354 0.04714805\n",
      "[In, Ba, Ca]/ 1.08154 1.4787136 0.09889886\n",
      "[Rh, Fe, Ir, Al]/ 1.079345 1.0414438 0.09758352\n",
      "[Rh, Ga, Ir, Fe]/ 1.0764976 1.062848 0.080378294\n",
      "[Fe, Ir, Ga, Ir]/ 1.074855 1.2395028 0.06387454\n",
      "[Al, Rh, Fe, Rh]/ 1.07283 1.217631 0.02156043\n",
      "[Fe, Rh, Ga, Rh]/ 1.06659 1.170531 -0.00022974102\n",
      "[Fe, Rh, Zn, Rh]/ 1.060735 1.247918 0.01908791\n",
      "[Fe, Rh, In, Rh]/ 1.059965 1.2169844 0.03178999\n",
      "[Ru, Al, Co, Fe]/ 1.0570976 1.1592221 0.09697798\n",
      "[Fe, Rh, Mg, Rh]/ 1.05305 1.2269528 0.025986642\n"
     ]
    }
   ],
   "source": [
    "for i in range(40):\n",
    "    print('[',end='')\n",
    "    for j in range(4):\n",
    "        if ordered_material[i][j]=='X':\n",
    "            continue\n",
    "        print(ordered_material[i][j],end=', ' if j!=3 else '')\n",
    "    print(']/',end=' ')\n",
    "    print(ordered_mag[i].to('cpu').numpy()[0],end=' ')\n",
    "    print(ordered_mag_pred[i].detach().to('cpu').numpy()[0],end=' ')\n",
    "    print(ordered_stability[i].detach().to('cpu').numpy()[0])"
   ]
  },
  {
   "cell_type": "code",
   "execution_count": 11,
   "metadata": {},
   "outputs": [],
   "source": [
    "name_wo_X=[]\n",
    "for i in range(20):\n",
    "    name_wo_X.append([x for x in ordered_material[i] if x!='X'])\n",
    "\n",
    "for i in range(20):\n",
    "    with open('search/contrast/meta_stable/%s.vasp'%(''.join(name_wo_X[i])),'w') as f:\n",
    "        f.write('elements: %s\\n'%(''.join(name_wo_X[i])))\n",
    "        f.write('1.000\\n')\n",
    "        f.write('     %f    %f    %f\\n'%(0,ordered_a[i].to('cpu').numpy()[0]/(2**0.5),ordered_a[i].to('cpu').numpy()[0]/(2**0.5)))\n",
    "        f.write('     %f    %f    %f\\n'%(ordered_a[i].to('cpu').numpy()[0]/(2**0.5),0,ordered_a[i].to('cpu').numpy()[0]/(2**0.5)))\n",
    "        f.write('     %f    %f    %f\\n'%(ordered_a[i].to('cpu').numpy()[0]/(2**0.5),ordered_a[i].to('cpu').numpy()[0]/(2**0.5),0))\n",
    "        element_set=set(name_wo_X[i])\n",
    "        for element in element_set:\n",
    "            f.write('   %s'%element)\n",
    "        f.write('\\n')\n",
    "        for element in element_set:\n",
    "            f.write('   %d'%list(name_wo_X[i]).count(element))\n",
    "        f.write('\\nDirect\\n')\n",
    "        for element in element_set:\n",
    "            args=np.argwhere(np.array(name_wo_X[i])==element).reshape(-1)\n",
    "            for arg in args:\n",
    "                f.write('   %f    %f    %f\\n'%(arg*0.25,arg*0.25,arg*0.25))"
   ]
  },
  {
   "cell_type": "code",
   "execution_count": null,
   "metadata": {},
   "outputs": [],
   "source": []
  }
 ],
 "metadata": {
  "kernelspec": {
   "display_name": "my_torch",
   "language": "python",
   "name": "python3"
  },
  "language_info": {
   "codemirror_mode": {
    "name": "ipython",
    "version": 3
   },
   "file_extension": ".py",
   "mimetype": "text/x-python",
   "name": "python",
   "nbconvert_exporter": "python",
   "pygments_lexer": "ipython3",
   "version": "3.9.18"
  }
 },
 "nbformat": 4,
 "nbformat_minor": 2
}
